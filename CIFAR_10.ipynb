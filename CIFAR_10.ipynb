{
  "nbformat": 4,
  "nbformat_minor": 0,
  "metadata": {
    "colab": {
      "provenance": [],
      "gpuType": "T4"
    },
    "kernelspec": {
      "name": "python3",
      "display_name": "Python 3"
    },
    "language_info": {
      "name": "python"
    },
    "accelerator": "GPU"
  },
  "cells": [
    {
      "cell_type": "markdown",
      "source": [
        "# **Data Exploration**"
      ],
      "metadata": {
        "id": "zIuwJfBWkz3k"
      }
    },
    {
      "cell_type": "code",
      "source": [
        "# Import Dependencies\n",
        "import pandas as pd\n",
        "import numpy as np\n",
        "import matplotlib.pyplot as plt\n",
        "from tensorflow.keras.datasets import cifar10\n",
        "from tensorflow.keras.utils import to_categorical\n",
        "\n",
        "\n",
        "# Load the CIFAR-10 dataset\n",
        "(train_images, train_labels), (test_images, test_labels) = cifar10.load_data()\n",
        "\n",
        "# Step 1: Get Basic Information\n",
        "print(\"Train Images Shape:\", train_images.shape)\n",
        "print(\"Test Images Shape:\", test_images.shape)\n",
        "\n",
        "\n",
        "# One-hot encode labels\n",
        "train_labels = to_categorical(train_labels)\n",
        "test_labels = to_categorical(test_labels)\n",
        "\n",
        "# Class distribution exploration (using pandas)\n",
        "train_labels = pd.Series(train_labels.sum(axis=0)).sort_values(ascending=False)\n",
        "test_labels = pd.Series(test_labels.sum(axis=0)).sort_values(ascending=False)\n",
        "# Print class distribution and basic statistics\n",
        "print(\"\\nTrain Class Distribution:\")\n",
        "print(train_labels)\n",
        "\n",
        "print(\"\\nTest Class Distribution:\")\n",
        "print(test_labels)\n",
        "\n",
        "# Step 2: Visualize Images\n",
        "def visualize_classes(images, class_names):\n",
        "  \"\"\"Visualizes all classes with their corresponding names.\"\"\"\n",
        "  num_classes = len(class_names)\n",
        "  rows, cols = 5, 2\n",
        "\n",
        "  plt.figure(figsize=(10, (rows * 3) // 2))\n",
        "  for i in range(num_classes):\n",
        "    image_index = np.random.randint(len(images))\n",
        "    image = images[image_index]\n",
        "    image = image * 255\n",
        "\n",
        "    plt.subplot(rows, cols, i + 1)\n",
        "    plt.imshow(image)\n",
        "    plt.title(class_names[i])\n",
        "    plt.axis('off')\n",
        "\n",
        "  plt.tight_layout()\n",
        "  plt.show()\n",
        "\n",
        "# Class names\n",
        "class_names = [\"airplane\", \"automobile\", \"bird\", \"cat\", \"deer\", \"dog\", \"frog\", \"horse\", \"ship\", \"truck\"]\n",
        "\n",
        "# Visualize classes using training images\n",
        "visualize_classes(train_images, class_names)\n",
        "\n",
        "# Step 3: Check for Missing Values\n",
        "missing_train_images = np.isnan(train_images).any(axis=(1, 2, 3))\n",
        "missing_test_images = np.isnan(test_images).any(axis=(1, 2, 3))\n",
        "\n",
        "num_missing_train = np.sum(missing_train_images)\n",
        "num_missing_test = np.sum(missing_test_images)\n",
        "\n",
        "if num_missing_train > 0:\n",
        "  print(f\"\\nWarning: Found {num_missing_train} missing images in training data!\")\n",
        "else:\n",
        "  print(\"\\nNo missing images found in training data.\")\n",
        "\n",
        "if num_missing_test > 0:\n",
        "  print(f\"Warning: Found {num_missing_test} missing images in test data!\")\n",
        "else:\n",
        "  print(\"\\nNo missing images found in test data.\")"
      ],
      "metadata": {
        "id": "UEAPXw6ToL2y",
        "colab": {
          "base_uri": "https://localhost:8080/",
          "height": 1000
        },
        "outputId": "644c1bbc-da4d-407d-a3cf-90596bfb5191"
      },
      "execution_count": null,
      "outputs": [
        {
          "output_type": "stream",
          "name": "stdout",
          "text": [
            "Downloading data from https://www.cs.toronto.edu/~kriz/cifar-10-python.tar.gz\n",
            "170498071/170498071 [==============================] - 11s 0us/step\n",
            "Train Images Shape: (50000, 32, 32, 3)\n",
            "Test Images Shape: (10000, 32, 32, 3)\n",
            "\n",
            "Train Class Distribution:\n",
            "0    5000.0\n",
            "1    5000.0\n",
            "2    5000.0\n",
            "3    5000.0\n",
            "4    5000.0\n",
            "5    5000.0\n",
            "6    5000.0\n",
            "7    5000.0\n",
            "8    5000.0\n",
            "9    5000.0\n",
            "dtype: float32\n",
            "\n",
            "Test Class Distribution:\n",
            "0    1000.0\n",
            "1    1000.0\n",
            "2    1000.0\n",
            "3    1000.0\n",
            "4    1000.0\n",
            "5    1000.0\n",
            "6    1000.0\n",
            "7    1000.0\n",
            "8    1000.0\n",
            "9    1000.0\n",
            "dtype: float32\n"
          ]
        },
        {
          "output_type": "display_data",
          "data": {
            "text/plain": [
              "<Figure size 1000x700 with 10 Axes>"
            ],
            "image/png": "[encoded data removed]"
          },
          "metadata": {}
        },
        {
          "output_type": "stream",
          "name": "stdout",
          "text": [
            "\n",
            "No missing images found in training data.\n",
            "\n",
            "No missing images found in test data.\n"
          ]
        }
      ]
    },
    {
      "cell_type": "markdown",
      "source": [
        "# **CNN** Model"
      ],
      "metadata": {
        "id": "BgAd9cQlkuAI"
      }
    },
    {
      "cell_type": "code",
      "source": [
        "import tensorflow as tf\n",
        "from tensorflow.keras import layers, models\n",
        "\n",
        "# Load CIFAR-10 data\n",
        "(x_train, y_train), (x_test, y_test) = cifar10.load_data()\n",
        "y_train = to_categorical(y_train, 10)\n",
        "y_test = to_categorical(y_test, 10)\n",
        "\n",
        "# Normalize pixel values to be between 0 and 1\n",
        "x_train, x_test = x_train / 255.0, x_test / 255.0\n",
        "\n",
        "# Define a simple CNN model\n",
        "model = models.Sequential([\n",
        "    layers.Conv2D(32, (3, 3), activation='relu', input_shape=(32, 32, 3)),\n",
        "    layers.MaxPooling2D((2, 2)),\n",
        "    layers.Conv2D(64, (3, 3), activation='relu'),\n",
        "    layers.MaxPooling2D((2, 2)),\n",
        "    layers.Conv2D(64, (3, 3), activation='relu'),\n",
        "    layers.Flatten(),\n",
        "    layers.Dense(64, activation='relu'),\n",
        "    layers.Dense(10, activation='softmax')\n",
        "])\n",
        "\n",
        "# Compile the model\n",
        "model.compile(optimizer='adam',\n",
        "              loss='categorical_crossentropy',\n",
        "              metrics=['accuracy'])\n",
        "\n",
        "# Train the model\n",
        "model.fit(x_train, y_train, epochs=10, validation_data=(x_test, y_test))\n",
        "\n",
        "# Save the model as a .h5 file\n",
        "model.save('cnn_model.h5')"
      ],
      "metadata": {
        "id": "VcuC5pIOcMo7",
        "colab": {
          "base_uri": "https://localhost:8080/"
        },
        "outputId": "2b0c1997-8f70-48d6-9566-f9b6acee4c52"
      },
      "execution_count": null,
      "outputs": [
        {
          "output_type": "stream",
          "name": "stdout",
          "text": [
            "Epoch 1/10\n",
            "1563/1563 [==============================] - 16s 7ms/step - loss: 1.5212 - accuracy: 0.4488 - val_loss: 1.2953 - val_accuracy: 0.5410\n",
            "Epoch 2/10\n",
            "1563/1563 [==============================] - 8s 5ms/step - loss: 1.1644 - accuracy: 0.5887 - val_loss: 1.0851 - val_accuracy: 0.6139\n",
            "Epoch 3/10\n",
            "1563/1563 [==============================] - 8s 5ms/step - loss: 1.0044 - accuracy: 0.6467 - val_loss: 0.9671 - val_accuracy: 0.6575\n",
            "Epoch 4/10\n",
            "1563/1563 [==============================] - 8s 5ms/step - loss: 0.8949 - accuracy: 0.6860 - val_loss: 0.9347 - val_accuracy: 0.6712\n",
            "Epoch 5/10\n",
            "1563/1563 [==============================] - 7s 5ms/step - loss: 0.8203 - accuracy: 0.7155 - val_loss: 0.8704 - val_accuracy: 0.7028\n",
            "Epoch 6/10\n",
            "1563/1563 [==============================] - 8s 5ms/step - loss: 0.7615 - accuracy: 0.7334 - val_loss: 0.8844 - val_accuracy: 0.6918\n",
            "Epoch 7/10\n",
            "1563/1563 [==============================] - 8s 5ms/step - loss: 0.7043 - accuracy: 0.7530 - val_loss: 0.8534 - val_accuracy: 0.7112\n",
            "Epoch 8/10\n",
            "1563/1563 [==============================] - 8s 5ms/step - loss: 0.6579 - accuracy: 0.7715 - val_loss: 0.8649 - val_accuracy: 0.7064\n",
            "Epoch 9/10\n",
            "1563/1563 [==============================] - 8s 5ms/step - loss: 0.6117 - accuracy: 0.7856 - val_loss: 0.9233 - val_accuracy: 0.6973\n",
            "Epoch 10/10\n",
            "1563/1563 [==============================] - 8s 5ms/step - loss: 0.5796 - accuracy: 0.7957 - val_loss: 0.8839 - val_accuracy: 0.7094\n"
          ]
        },
        {
          "output_type": "stream",
          "name": "stderr",
          "text": [
            "/usr/local/lib/python3.10/dist-packages/keras/src/engine/training.py:3103: UserWarning: You are saving your model as an HDF5 file via `model.save()`. This file format is considered legacy. We recommend using instead the native Keras format, e.g. `model.save('my_model.keras')`.\n",
            "  saving_api.save_model(\n"
          ]
        }
      ]
    },
    {
      "cell_type": "code",
      "source": [
        "from tensorflow.keras.utils import plot_model\n",
        "\n",
        "# Evaluate the model on the test set\n",
        "test_loss, test_acc = model.evaluate(x_test, y_test)\n",
        "print(\"Test Accuracy:\", test_acc)\n",
        "\n",
        "# Plot the model architecture\n",
        "plot_model(model, to_file='model_architecture.png', show_shapes=True)\n",
        "print(\"Model architecture saved as 'model_architecture.png'\")\n",
        "\n",
        "# Make predictions on a few test images\n",
        "predictions = model.predict(x_test[:5])  # Predict for the first 5 test images\n",
        "\n",
        "# Convert predicted class indices to class names\n",
        "predicted_classes = np.argmax(predictions, axis=1)\n",
        "class_names = [\"airplane\", \"automobile\", \"bird\", \"cat\", \"deer\", \"dog\", \"frog\", \"horse\", \"ship\", \"truck\"]\n",
        "predicted_class_names = [class_names[i] for i in predicted_classes]\n",
        "\n",
        "# Display the first 5 test images with their predicted class names\n",
        "plt.figure(figsize=(10, 6))\n",
        "for i in range(5):\n",
        "  plt.subplot(2, 5, i+1)\n",
        "  plt.imshow(x_test[i] * 255.0)  # Rescale back to 0-255 for visualization\n",
        "  plt.title(f\"Predicted: {predicted_class_names[i]}\")\n",
        "  plt.axis('off')\n",
        "\n",
        "plt.suptitle(\"Sample Test Images and Predictions\", fontsize=16)\n",
        "plt.tight_layout()\n",
        "plt.show()"
      ],
      "metadata": {
        "colab": {
          "base_uri": "https://localhost:8080/",
          "height": 468
        },
        "id": "J2r1Yrwh2hCQ",
        "outputId": "f6cc1b58-0465-4ae9-9dcc-ed19ad63c7f9"
      },
      "execution_count": null,
      "outputs": [
        {
          "output_type": "stream",
          "name": "stdout",
          "text": [
            "313/313 [==============================] - 1s 3ms/step - loss: 0.8839 - accuracy: 0.7094\n",
            "Test Accuracy: 0.7093999981880188\n",
            "Model architecture saved as 'model_architecture.png'\n",
            "1/1 [==============================] - 0s 238ms/step\n"
          ]
        },
        {
          "output_type": "stream",
          "name": "stderr",
          "text": [
            "WARNING:matplotlib.image:Clipping input data to the valid range for imshow with RGB data ([0..1] for floats or [0..255] for integers).\n",
            "WARNING:matplotlib.image:Clipping input data to the valid range for imshow with RGB data ([0..1] for floats or [0..255] for integers).\n",
            "WARNING:matplotlib.image:Clipping input data to the valid range for imshow with RGB data ([0..1] for floats or [0..255] for integers).\n",
            "WARNING:matplotlib.image:Clipping input data to the valid range for imshow with RGB data ([0..1] for floats or [0..255] for integers).\n",
            "WARNING:matplotlib.image:Clipping input data to the valid range for imshow with RGB data ([0..1] for floats or [0..255] for integers).\n"
          ]
        },
        {
          "output_type": "display_data",
          "data": {
            "text/plain": [
              "<Figure size 1000x600 with 5 Axes>"
            ],
            "image/png": "[encoded data removed]"
          },
          "metadata": {}
        }
      ]
    },
    {
      "cell_type": "markdown",
      "source": [
        "# CNN Model **Improved using Optuna**"
      ],
      "metadata": {
        "id": "NfYv9ArrY4AN"
      }
    },
    {
      "cell_type": "code",
      "source": [
        "pip install optuna"
      ],
      "metadata": {
        "colab": {
          "base_uri": "https://localhost:8080/"
        },
        "id": "_BlZUky4ZGDI",
        "outputId": "5cfa9e41-854d-4ff9-bde7-18a60fdf2fb8"
      },
      "execution_count": null,
      "outputs": [
        {
          "output_type": "stream",
          "name": "stdout",
          "text": [
            "Collecting optuna\n",
            "  Downloading optuna-3.6.1-py3-none-any.whl (380 kB)\n",
            "\u001b[2K     \u001b[90m━━━━━━━━━━━━━━━━━━━━━━━━━━━━━━━━━━━━━━━━\u001b[0m \u001b[32m380.1/380.1 kB\u001b[0m \u001b[31m6.5 MB/s\u001b[0m eta \u001b[36m0:00:00\u001b[0m\n",
            "\u001b[?25hCollecting alembic>=1.5.0 (from optuna)\n",
            "  Downloading alembic-1.13.1-py3-none-any.whl (233 kB)\n",
            "\u001b[2K     \u001b[90m━━━━━━━━━━━━━━━━━━━━━━━━━━━━━━━━━━━━━━━━\u001b[0m \u001b[32m233.4/233.4 kB\u001b[0m \u001b[31m30.2 MB/s\u001b[0m eta \u001b[36m0:00:00\u001b[0m\n",
            "\u001b[?25hCollecting colorlog (from optuna)\n",
            "  Downloading colorlog-6.8.2-py3-none-any.whl (11 kB)\n",
            "Requirement already satisfied: numpy in /usr/local/lib/python3.10/dist-packages (from optuna) (1.25.2)\n",
            "Requirement already satisfied: packaging>=20.0 in /usr/local/lib/python3.10/dist-packages (from optuna) (24.0)\n",
            "Requirement already satisfied: sqlalchemy>=1.3.0 in /usr/local/lib/python3.10/dist-packages (from optuna) (2.0.30)\n",
            "Requirement already satisfied: tqdm in /usr/local/lib/python3.10/dist-packages (from optuna) (4.66.4)\n",
            "Requirement already satisfied: PyYAML in /usr/local/lib/python3.10/dist-packages (from optuna) (6.0.1)\n",
            "Collecting Mako (from alembic>=1.5.0->optuna)\n",
            "  Downloading Mako-1.3.5-py3-none-any.whl (78 kB)\n",
            "\u001b[2K     \u001b[90m━━━━━━━━━━━━━━━━━━━━━━━━━━━━━━━━━━━━━━━━\u001b[0m \u001b[32m78.6/78.6 kB\u001b[0m \u001b[31m12.5 MB/s\u001b[0m eta \u001b[36m0:00:00\u001b[0m\n",
            "\u001b[?25hRequirement already satisfied: typing-extensions>=4 in /usr/local/lib/python3.10/dist-packages (from alembic>=1.5.0->optuna) (4.12.1)\n",
            "Requirement already satisfied: greenlet!=0.4.17 in /usr/local/lib/python3.10/dist-packages (from sqlalchemy>=1.3.0->optuna) (3.0.3)\n",
            "Requirement already satisfied: MarkupSafe>=0.9.2 in /usr/local/lib/python3.10/dist-packages (from Mako->alembic>=1.5.0->optuna) (2.1.5)\n",
            "Installing collected packages: Mako, colorlog, alembic, optuna\n",
            "Successfully installed Mako-1.3.5 alembic-1.13.1 colorlog-6.8.2 optuna-3.6.1\n"
          ]
        }
      ]
    },
    {
      "cell_type": "code",
      "source": [
        "import optuna\n",
        "\n",
        "# Load CIFAR-10 data\n",
        "(x_train, y_train), (x_test, y_test) = cifar10.load_data()\n",
        "y_train = to_categorical(y_train, 10)\n",
        "y_test = to_categorical(y_test, 10)\n",
        "\n",
        "# Normalize pixel values to be between 0 and 1\n",
        "x_train, x_test = x_train / 255.0, x_test / 255.0\n",
        "\n",
        "def create_model(trial):\n",
        "    model = models.Sequential()\n",
        "\n",
        "    # Hyperparameters to tune\n",
        "    num_conv_layers = trial.suggest_int('num_conv_layers', 1, 3)\n",
        "    for i in range(num_conv_layers):\n",
        "        num_filters = trial.suggest_int(f'num_filters_{i}', 32, 128, step=32)\n",
        "        if i == 0:\n",
        "            model.add(layers.Conv2D(num_filters, (3, 3), activation='relu', input_shape=(32, 32, 3)))\n",
        "        else:\n",
        "            model.add(layers.Conv2D(num_filters, (3, 3), activation='relu'))\n",
        "        model.add(layers.MaxPooling2D((2, 2)))\n",
        "\n",
        "    model.add(layers.Flatten())\n",
        "\n",
        "    num_dense_units = trial.suggest_int('num_dense_units', 64, 256, step=64)\n",
        "    model.add(layers.Dense(num_dense_units, activation='relu'))\n",
        "\n",
        "    dropout_rate = trial.suggest_float('dropout_rate', 0.1, 0.5)\n",
        "    model.add(layers.Dropout(dropout_rate))\n",
        "\n",
        "    model.add(layers.Dense(10, activation='softmax'))\n",
        "\n",
        "    # Compile the model\n",
        "    lr = trial.suggest_float('lr', 1e-4, 1e-2, log=True)\n",
        "    model.compile(optimizer=tf.keras.optimizers.Adam(learning_rate=lr),\n",
        "                  loss='categorical_crossentropy',\n",
        "                  metrics=['accuracy'])\n",
        "\n",
        "    return model\n",
        "\n",
        "def objective(trial):\n",
        "    model = create_model(trial)\n",
        "\n",
        "    # Train the model\n",
        "    model.fit(x_train, y_train, epochs=10, validation_data=(x_test, y_test), batch_size=64, verbose=0)\n",
        "\n",
        "    # Evaluate the model\n",
        "    score = model.evaluate(x_test, y_test, verbose=0)\n",
        "    return score[1]  # Return the accuracy\n",
        "\n",
        "# Create and run the Optuna study\n",
        "study = optuna.create_study(direction='maximize')\n",
        "study.optimize(objective, n_trials=10)\n",
        "\n",
        "# Get the best trial\n",
        "best_trial = study.best_trial\n",
        "print(f\"Best trial: {best_trial.params}\")\n",
        "\n",
        "# Retrain the model with the best hyperparameters\n",
        "best_model = create_model(best_trial)\n",
        "best_model.fit(x_train, y_train, epochs=10, validation_data=(x_test, y_test), batch_size=64)\n",
        "best_model.save('cnn_model_best.h5')"
      ],
      "metadata": {
        "id": "t4Zk3RgS598J",
        "colab": {
          "base_uri": "https://localhost:8080/"
        },
        "outputId": "b3e7711c-9236-450d-8245-2c3bcbb80f75"
      },
      "execution_count": null,
      "outputs": [
        {
          "output_type": "stream",
          "name": "stderr",
          "text": [
            "[I 2024-06-05 22:00:41,499] A new study created in memory with name: no-name-2215adfd-4850-4ba0-95e1-24e4ba94e9f5\n",
            "[I 2024-06-05 22:01:26,740] Trial 0 finished with value: 0.5812000036239624 and parameters: {'num_conv_layers': 2, 'num_filters_0': 32, 'num_filters_1': 96, 'num_dense_units': 256, 'dropout_rate': 0.4358049825887552, 'lr': 0.005573600479581989}. Best is trial 0 with value: 0.5812000036239624.\n",
            "[I 2024-06-05 22:02:53,816] Trial 1 finished with value: 0.6820999979972839 and parameters: {'num_conv_layers': 3, 'num_filters_0': 96, 'num_filters_1': 64, 'num_filters_2': 32, 'num_dense_units': 256, 'dropout_rate': 0.19391802414961462, 'lr': 0.000628996260171298}. Best is trial 1 with value: 0.6820999979972839.\n",
            "[I 2024-06-05 22:04:20,078] Trial 2 finished with value: 0.6603999733924866 and parameters: {'num_conv_layers': 1, 'num_filters_0': 128, 'num_dense_units': 256, 'dropout_rate': 0.20089492774732898, 'lr': 0.0001597685167654349}. Best is trial 1 with value: 0.6820999979972839.\n",
            "[I 2024-06-05 22:05:05,644] Trial 3 finished with value: 0.5458999872207642 and parameters: {'num_conv_layers': 1, 'num_filters_0': 128, 'num_dense_units': 64, 'dropout_rate': 0.20017918976528418, 'lr': 0.006088748408049437}. Best is trial 1 with value: 0.6820999979972839.\n",
            "[I 2024-06-05 22:05:51,591] Trial 4 finished with value: 0.6302000284194946 and parameters: {'num_conv_layers': 3, 'num_filters_0': 64, 'num_filters_1': 64, 'num_filters_2': 64, 'num_dense_units': 256, 'dropout_rate': 0.16963995084421316, 'lr': 0.00018513261416135837}. Best is trial 1 with value: 0.6820999979972839.\n",
            "[I 2024-06-05 22:07:17,778] Trial 5 finished with value: 0.6865000128746033 and parameters: {'num_conv_layers': 1, 'num_filters_0': 128, 'num_dense_units': 256, 'dropout_rate': 0.17700920525084252, 'lr': 0.0003612579407016999}. Best is trial 5 with value: 0.6865000128746033.\n",
            "[I 2024-06-05 22:08:44,102] Trial 6 finished with value: 0.6777999997138977 and parameters: {'num_conv_layers': 1, 'num_filters_0': 128, 'num_dense_units': 192, 'dropout_rate': 0.2903515899248478, 'lr': 0.00047774015337450547}. Best is trial 5 with value: 0.6865000128746033.\n",
            "[I 2024-06-05 22:09:30,038] Trial 7 finished with value: 0.7092999815940857 and parameters: {'num_conv_layers': 2, 'num_filters_0': 96, 'num_filters_1': 32, 'num_dense_units': 192, 'dropout_rate': 0.4129301019574587, 'lr': 0.00045683233729348227}. Best is trial 7 with value: 0.7092999815940857.\n",
            "[I 2024-06-05 22:10:04,779] Trial 8 finished with value: 0.5015000104904175 and parameters: {'num_conv_layers': 1, 'num_filters_0': 32, 'num_dense_units': 192, 'dropout_rate': 0.17335392416931722, 'lr': 0.007072884486435543}. Best is trial 7 with value: 0.7092999815940857.\n",
            "[I 2024-06-05 22:10:54,625] Trial 9 finished with value: 0.6428999900817871 and parameters: {'num_conv_layers': 2, 'num_filters_0': 96, 'num_filters_1': 96, 'num_dense_units': 64, 'dropout_rate': 0.10245954079104092, 'lr': 0.00014071222430033805}. Best is trial 7 with value: 0.7092999815940857.\n"
          ]
        },
        {
          "output_type": "stream",
          "name": "stdout",
          "text": [
            "Best trial: {'num_conv_layers': 2, 'num_filters_0': 96, 'num_filters_1': 32, 'num_dense_units': 192, 'dropout_rate': 0.4129301019574587, 'lr': 0.00045683233729348227}\n",
            "Epoch 1/10\n",
            "782/782 [==============================] - 7s 7ms/step - loss: 1.6750 - accuracy: 0.3918 - val_loss: 1.3742 - val_accuracy: 0.5121\n",
            "Epoch 2/10\n",
            "782/782 [==============================] - 5s 7ms/step - loss: 1.3581 - accuracy: 0.5132 - val_loss: 1.2252 - val_accuracy: 0.5761\n",
            "Epoch 3/10\n",
            "782/782 [==============================] - 4s 5ms/step - loss: 1.2238 - accuracy: 0.5676 - val_loss: 1.1097 - val_accuracy: 0.6079\n",
            "Epoch 4/10\n",
            "782/782 [==============================] - 5s 6ms/step - loss: 1.1334 - accuracy: 0.6017 - val_loss: 1.0733 - val_accuracy: 0.6257\n",
            "Epoch 5/10\n",
            "782/782 [==============================] - 5s 7ms/step - loss: 1.0730 - accuracy: 0.6222 - val_loss: 1.0072 - val_accuracy: 0.6483\n",
            "Epoch 6/10\n",
            "782/782 [==============================] - 5s 6ms/step - loss: 1.0202 - accuracy: 0.6418 - val_loss: 0.9694 - val_accuracy: 0.6590\n",
            "Epoch 7/10\n",
            "782/782 [==============================] - 4s 6ms/step - loss: 0.9711 - accuracy: 0.6585 - val_loss: 0.9593 - val_accuracy: 0.6714\n",
            "Epoch 8/10\n",
            "782/782 [==============================] - 4s 6ms/step - loss: 0.9339 - accuracy: 0.6743 - val_loss: 0.9290 - val_accuracy: 0.6773\n",
            "Epoch 9/10\n",
            "782/782 [==============================] - 5s 6ms/step - loss: 0.8968 - accuracy: 0.6871 - val_loss: 0.9314 - val_accuracy: 0.6776\n",
            "Epoch 10/10\n",
            "782/782 [==============================] - 4s 5ms/step - loss: 0.8728 - accuracy: 0.6939 - val_loss: 0.8902 - val_accuracy: 0.6923\n"
          ]
        },
        {
          "output_type": "stream",
          "name": "stderr",
          "text": [
            "/usr/local/lib/python3.10/dist-packages/keras/src/engine/training.py:3103: UserWarning: You are saving your model as an HDF5 file via `model.save()`. This file format is considered legacy. We recommend using instead the native Keras format, e.g. `model.save('my_model.keras')`.\n",
            "  saving_api.save_model(\n"
          ]
        }
      ]
    },
    {
      "cell_type": "markdown",
      "source": [
        "# **VGG Model**"
      ],
      "metadata": {
        "id": "NdzS02C0kmA8"
      }
    },
    {
      "cell_type": "code",
      "source": [
        "#Bad Model !!! NOT GOOD !!!\n",
        "from tensorflow.keras.models import Sequential\n",
        "from tensorflow.keras.layers import Conv2D, MaxPooling2D, Flatten, Dense, Dropout\n",
        "\n",
        "def create_vgg_model():\n",
        "    model = Sequential()\n",
        "\n",
        "    # Block 1\n",
        "    model.add(Conv2D(64, (3, 3), activation='relu', padding='same', input_shape=(32, 32, 3)))\n",
        "    model.add(Conv2D(64, (3, 3), activation='relu', padding='same'))\n",
        "    model.add(MaxPooling2D((2, 2)))\n",
        "\n",
        "    # Block 2\n",
        "    model.add(Conv2D(128, (3, 3), activation='relu', padding='same'))\n",
        "    model.add(Conv2D(128, (3, 3), activation='relu', padding='same'))\n",
        "    model.add(MaxPooling2D((2, 2)))\n",
        "\n",
        "    # Block 3\n",
        "    model.add(Conv2D(256, (3, 3), activation='relu', padding='same'))\n",
        "    model.add(Conv2D(256, (3, 3), activation='relu', padding='same'))\n",
        "    model.add(Conv2D(256, (3, 3), activation='relu', padding='same'))\n",
        "    model.add(MaxPooling2D((2, 2)))\n",
        "\n",
        "    # Fully connected layers\n",
        "    model.add(Flatten())\n",
        "    model.add(Dense(4096, activation='relu'))\n",
        "    model.add(Dropout(0.5))\n",
        "    model.add(Dense(4096, activation='relu'))\n",
        "    model.add(Dropout(0.5))\n",
        "    model.add(Dense(10, activation='softmax'))\n",
        "\n",
        "    return model\n",
        "\n",
        "model = create_vgg_model()\n",
        "\n",
        "# Compile the model\n",
        "model.compile(optimizer='adam',\n",
        "              loss='categorical_crossentropy',\n",
        "              metrics=['accuracy'])\n",
        "\n",
        "# Train the model\n",
        "model.fit(x_train, y_train, epochs=10, batch_size=64, validation_data=(x_test, y_test))\n",
        "\n",
        "# Save the model to an H5 file\n",
        "model.save('vgg_cifar10.h5')"
      ],
      "metadata": {
        "id": "Bz-QZ0rAY8KA",
        "colab": {
          "base_uri": "https://localhost:8080/"
        },
        "outputId": "3e13f4f6-df04-4d64-e086-23da764650a2"
      },
      "execution_count": null,
      "outputs": [
        {
          "output_type": "stream",
          "name": "stdout",
          "text": [
            "Epoch 1/10\n",
            "782/782 [==============================] - 26s 29ms/step - loss: 2.3038 - accuracy: 0.0976 - val_loss: 2.3027 - val_accuracy: 0.1000\n",
            "Epoch 2/10\n",
            "782/782 [==============================] - 21s 27ms/step - loss: 2.3029 - accuracy: 0.0992 - val_loss: 2.3027 - val_accuracy: 0.1000\n",
            "Epoch 3/10\n",
            "782/782 [==============================] - 21s 27ms/step - loss: 2.3029 - accuracy: 0.0983 - val_loss: 2.3027 - val_accuracy: 0.1000\n",
            "Epoch 4/10\n",
            "782/782 [==============================] - 21s 27ms/step - loss: 2.3028 - accuracy: 0.1008 - val_loss: 2.3026 - val_accuracy: 0.1000\n",
            "Epoch 5/10\n",
            "782/782 [==============================] - 21s 27ms/step - loss: 2.3027 - accuracy: 0.0999 - val_loss: 2.3026 - val_accuracy: 0.1000\n",
            "Epoch 6/10\n",
            "782/782 [==============================] - 21s 27ms/step - loss: 2.3028 - accuracy: 0.0984 - val_loss: 2.3026 - val_accuracy: 0.1000\n",
            "Epoch 7/10\n",
            "782/782 [==============================] - 21s 27ms/step - loss: 2.3027 - accuracy: 0.0976 - val_loss: 2.3026 - val_accuracy: 0.1000\n",
            "Epoch 8/10\n",
            "782/782 [==============================] - 21s 27ms/step - loss: 2.3027 - accuracy: 0.0984 - val_loss: 2.3026 - val_accuracy: 0.1000\n",
            "Epoch 9/10\n",
            "782/782 [==============================] - 21s 27ms/step - loss: 2.3027 - accuracy: 0.0979 - val_loss: 2.3026 - val_accuracy: 0.1000\n",
            "Epoch 10/10\n",
            "782/782 [==============================] - 21s 27ms/step - loss: 2.3027 - accuracy: 0.0985 - val_loss: 2.3026 - val_accuracy: 0.1000\n"
          ]
        }
      ]
    },
    {
      "cell_type": "code",
      "source": [
        "import tensorflow as tf\n",
        "from tensorflow.keras.datasets import cifar10\n",
        "from tensorflow.keras.utils import to_categorical\n",
        "from tensorflow.keras.models import Sequential\n",
        "from tensorflow.keras.layers import Conv2D, MaxPooling2D, Flatten, Dense, Dropout, BatchNormalization\n",
        "from tensorflow.keras.preprocessing.image import ImageDataGenerator\n",
        "from tensorflow.keras.optimizers import SGD\n",
        "from tensorflow.keras.callbacks import EarlyStopping, ReduceLROnPlateau\n",
        "\n",
        "# Load the CIFAR-10 dataset\n",
        "(x_train, y_train), (x_test, y_test) = cifar10.load_data()\n",
        "x_train, x_test = x_train / 255.0, x_test / 255.0\n",
        "y_train = to_categorical(y_train, 10)\n",
        "y_test = to_categorical(y_test, 10)\n",
        "\n",
        "def create_vgg_model():\n",
        "    model = Sequential()\n",
        "\n",
        "    # Block 1\n",
        "    model.add(Conv2D(64, (3, 3), activation='relu', padding='same', input_shape=(32, 32, 3)))\n",
        "    model.add(Conv2D(64, (3, 3), activation='relu', padding='same'))\n",
        "    model.add(BatchNormalization())\n",
        "    model.add(MaxPooling2D((2, 2)))\n",
        "\n",
        "    # Block 2\n",
        "    model.add(Conv2D(128, (3, 3), activation='relu', padding='same'))\n",
        "    model.add(Conv2D(128, (3, 3), activation='relu', padding='same'))\n",
        "    model.add(BatchNormalization())\n",
        "    model.add(MaxPooling2D((2, 2)))\n",
        "\n",
        "    # Block 3\n",
        "    model.add(Conv2D(256, (3, 3), activation='relu', padding='same'))\n",
        "    model.add(Conv2D(256, (3, 3), activation='relu', padding='same'))\n",
        "    model.add(Conv2D(256, (3, 3), activation='relu', padding='same'))\n",
        "    model.add(BatchNormalization())\n",
        "    model.add(MaxPooling2D((2, 2)))\n",
        "\n",
        "    # Fully connected layers\n",
        "    model.add(Flatten())\n",
        "    model.add(Dense(4096, activation='relu'))\n",
        "    model.add(Dropout(0.5))\n",
        "    model.add(Dense(10, activation='softmax'))\n",
        "\n",
        "    return model\n",
        "\n",
        "# Create the model\n",
        "model = create_vgg_model()\n",
        "\n",
        "# Compile the model\n",
        "optimizer = SGD(learning_rate=0.01, momentum=0.9, nesterov=True)\n",
        "model.compile(optimizer=optimizer,\n",
        "              loss='categorical_crossentropy',\n",
        "              metrics=['accuracy'])\n",
        "\n",
        "# Data augmentation\n",
        "datagen = ImageDataGenerator(\n",
        "    rotation_range=15,\n",
        "    width_shift_range=0.1,\n",
        "    height_shift_range=0.1,\n",
        "    horizontal_flip=True,\n",
        "    )\n",
        "datagen.fit(x_train)\n",
        "\n",
        "# Callbacks\n",
        "early_stopping = EarlyStopping(monitor='val_loss', patience=10, restore_best_weights=True)\n",
        "reduce_lr = ReduceLROnPlateau(monitor='val_loss', factor=0.2, patience=5, min_lr=1e-5)\n",
        "\n",
        "# Train the model\n",
        "history = model.fit(datagen.flow(x_train, y_train, batch_size=64),\n",
        "                    epochs=10,\n",
        "                    validation_data=(x_test, y_test),\n",
        "                    callbacks=[early_stopping, reduce_lr])\n",
        "\n",
        "# Save the model\n",
        "model.save('vgg_cifar10_optimized.h5')\n"
      ],
      "metadata": {
        "colab": {
          "base_uri": "https://localhost:8080/"
        },
        "id": "CjzSpFydlJGy",
        "outputId": "67522edb-18c3-48f6-9174-adfc18cbdd8a"
      },
      "execution_count": null,
      "outputs": [
        {
          "output_type": "stream",
          "name": "stdout",
          "text": [
            "Epoch 1/10\n",
            "782/782 [==============================] - 43s 49ms/step - loss: 2.0365 - accuracy: 0.2934 - val_loss: 1.8191 - val_accuracy: 0.3587 - lr: 0.0100\n",
            "Epoch 2/10\n",
            "782/782 [==============================] - 34s 44ms/step - loss: 1.6212 - accuracy: 0.4077 - val_loss: 1.5190 - val_accuracy: 0.4677 - lr: 0.0100\n",
            "Epoch 3/10\n",
            "782/782 [==============================] - 35s 44ms/step - loss: 1.4039 - accuracy: 0.4952 - val_loss: 1.4079 - val_accuracy: 0.5106 - lr: 0.0100\n",
            "Epoch 4/10\n",
            "782/782 [==============================] - 34s 43ms/step - loss: 1.2141 - accuracy: 0.5687 - val_loss: 1.6190 - val_accuracy: 0.4853 - lr: 0.0100\n",
            "Epoch 5/10\n",
            "782/782 [==============================] - 36s 46ms/step - loss: 1.0454 - accuracy: 0.6305 - val_loss: 0.9507 - val_accuracy: 0.6721 - lr: 0.0100\n",
            "Epoch 6/10\n",
            "782/782 [==============================] - 34s 44ms/step - loss: 0.9227 - accuracy: 0.6778 - val_loss: 1.4172 - val_accuracy: 0.5959 - lr: 0.0100\n",
            "Epoch 7/10\n",
            "782/782 [==============================] - 33s 42ms/step - loss: 0.8222 - accuracy: 0.7147 - val_loss: 1.1087 - val_accuracy: 0.6452 - lr: 0.0100\n",
            "Epoch 8/10\n",
            "782/782 [==============================] - 35s 45ms/step - loss: 0.7417 - accuracy: 0.7421 - val_loss: 0.8231 - val_accuracy: 0.7322 - lr: 0.0100\n",
            "Epoch 9/10\n",
            "782/782 [==============================] - 35s 45ms/step - loss: 0.6752 - accuracy: 0.7678 - val_loss: 0.8922 - val_accuracy: 0.7169 - lr: 0.0100\n",
            "Epoch 10/10\n",
            "782/782 [==============================] - 35s 45ms/step - loss: 0.6288 - accuracy: 0.7832 - val_loss: 0.8152 - val_accuracy: 0.7314 - lr: 0.0100\n"
          ]
        }
      ]
    },
    {
      "cell_type": "code",
      "source": [],
      "metadata": {
        "id": "clllz9G3mZoZ"
      },
      "execution_count": null,
      "outputs": []
    }
  ]
}